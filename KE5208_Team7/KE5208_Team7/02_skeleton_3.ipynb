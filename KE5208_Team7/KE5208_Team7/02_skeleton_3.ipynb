{
 "cells": [
  {
   "cell_type": "markdown",
   "metadata": {},
   "source": [
    "# Skeleton sensor data model"
   ]
  },
  {
   "cell_type": "code",
   "execution_count": 2,
   "metadata": {},
   "outputs": [
    {
     "data": {
      "text/plain": [
       "(20, 3, 64)"
      ]
     },
     "execution_count": 2,
     "metadata": {},
     "output_type": "execute_result"
    }
   ],
   "source": [
    "from scipy.io import loadmat\n",
    "import os\n",
    "# os.chdir(\"/Users/qy/Desktop/sense_making/data/\")\n",
    "os.chdir(\"C:\\\\Users\\\\yu_quan\\\\Desktop\\\\sensor\")\n",
    "\n",
    "filename = 'Skeleton/a17_s4_t4_skeleton.mat'\n",
    "mat = loadmat(filename)\n",
    "mat['d_skel'].shape"
   ]
  },
  {
   "cell_type": "code",
   "execution_count": 6,
   "metadata": {},
   "outputs": [
    {
     "name": "stdout",
     "output_type": "stream",
     "text": [
      "(20, 3, 64)\n",
      "[[-0.07696016 -0.07700294 -0.07703371 -0.07705721 -0.07709071]\n",
      " [-0.08209754 -0.08210342 -0.08204667 -0.08196145 -0.08181147]\n",
      " [-0.07590193 -0.07578226 -0.07564787 -0.0755038  -0.07532212]\n",
      " [-0.0671369  -0.06701325 -0.06689188 -0.06675554 -0.06657999]\n",
      " [-0.22491577 -0.22482105 -0.22473127 -0.22465235 -0.22455449]]\n",
      "(60, 64)\n",
      "[[-0.07696016 -0.07700294 -0.07703371 -0.07705721 -0.07709071]\n",
      " [ 0.39861915  0.39859325  0.39857134  0.39855206  0.3985188 ]\n",
      " [ 2.87421751  2.87450552  2.87470627  2.87485576  2.87494183]\n",
      " [-0.08209754 -0.08210342 -0.08204667 -0.08196145 -0.08181147]\n",
      " [ 0.20173799  0.20174116  0.20174158  0.20174833  0.20176958]]\n"
     ]
    }
   ],
   "source": [
    "import numpy as np\n",
    "\n",
    "dat = mat['d_skel']\n",
    "print(dat.shape)\n",
    "print(dat[:5, 0, :5])\n",
    "\n",
    "# dat2 = np.swapaxes(dat, 0, 2)\n",
    "# print(dat2.shape)\n",
    "\n",
    "# dat = dat.reshape(60, dat.shape[2])\n",
    "dat = dat.reshape(-1, dat.shape[2])\n",
    "print(dat.shape)\n",
    "print(dat[:5, :5])"
   ]
  },
  {
   "cell_type": "code",
   "execution_count": 13,
   "metadata": {},
   "outputs": [
    {
     "data": {
      "text/plain": [
       "(60, 64)"
      ]
     },
     "execution_count": 13,
     "metadata": {},
     "output_type": "execute_result"
    }
   ],
   "source": [
    "dat = mat['d_skel']\n",
    "data2 = dat[:,0,:]\n",
    "\n",
    "for n in range(1,3):\n",
    "    data2 = np.vstack((data2, dat[:,n,:]))\n",
    "\n",
    "data2.shape    "
   ]
  },
  {
   "cell_type": "markdown",
   "metadata": {},
   "source": [
    "### check if stacking works"
   ]
  },
  {
   "cell_type": "code",
   "execution_count": 14,
   "metadata": {},
   "outputs": [
    {
     "name": "stdout",
     "output_type": "stream",
     "text": [
      "[[-0.07696016 -0.07700294 -0.07703371 -0.07705721 -0.07709071]\n",
      " [-0.08209754 -0.08210342 -0.08204667 -0.08196145 -0.08181147]\n",
      " [-0.07590193 -0.07578226 -0.07564787 -0.0755038  -0.07532212]\n",
      " [-0.0671369  -0.06701325 -0.06689188 -0.06675554 -0.06657999]\n",
      " [-0.22491577 -0.22482105 -0.22473127 -0.22465235 -0.22455449]]\n",
      "[[-0.07696016 -0.07700294 -0.07703371 -0.07705721 -0.07709071]\n",
      " [-0.08209754 -0.08210342 -0.08204667 -0.08196145 -0.08181147]\n",
      " [-0.07590193 -0.07578226 -0.07564787 -0.0755038  -0.07532212]\n",
      " [-0.0671369  -0.06701325 -0.06689188 -0.06675554 -0.06657999]\n",
      " [-0.22491577 -0.22482105 -0.22473127 -0.22465235 -0.22455449]]\n"
     ]
    }
   ],
   "source": [
    "print(dat[:5, 0, :5])\n",
    "\n",
    "print(data2[:5, :5])"
   ]
  },
  {
   "cell_type": "code",
   "execution_count": 15,
   "metadata": {},
   "outputs": [
    {
     "name": "stdout",
     "output_type": "stream",
     "text": [
      "[[2.87421751 2.87450552 2.87470627 2.87485576 2.87494183]\n",
      " [2.87240958 2.87265825 2.87290812 2.87315226 2.87335992]\n",
      " [2.87534761 2.87572241 2.87607646 2.87640166 2.87669992]\n",
      " [2.82735038 2.82747817 2.82760763 2.82774448 2.82788515]\n",
      " [2.82918191 2.82971954 2.83013678 2.8304646  2.83069801]]\n",
      "[[2.87421751 2.87450552 2.87470627 2.87485576 2.87494183]\n",
      " [2.87240958 2.87265825 2.87290812 2.87315226 2.87335992]\n",
      " [2.87534761 2.87572241 2.87607646 2.87640166 2.87669992]\n",
      " [2.82735038 2.82747817 2.82760763 2.82774448 2.82788515]\n",
      " [2.82918191 2.82971954 2.83013678 2.8304646  2.83069801]]\n"
     ]
    }
   ],
   "source": [
    "print(dat[:5, 2, :5])\n",
    "\n",
    "print(data2[40:45, :5])"
   ]
  },
  {
   "cell_type": "code",
   "execution_count": 7,
   "metadata": {},
   "outputs": [
    {
     "name": "stdout",
     "output_type": "stream",
     "text": [
      "[[-0.07696016 -0.07700294 -0.07703371]\n",
      " [ 0.39861915  0.39859325  0.39857134]\n",
      " [ 2.87421751  2.87450552  2.87470627]]\n",
      "[[-1. -1. -1.]\n",
      " [ 0.  0.  0.]\n",
      " [ 2.  2.  2.]]\n"
     ]
    }
   ],
   "source": [
    "# normalize coord into image pixel??\n",
    "\n",
    "print(dat[:3,:3])\n",
    "print(np.floor(dat[:3,:3]))"
   ]
  },
  {
   "cell_type": "code",
   "execution_count": 20,
   "metadata": {},
   "outputs": [
    {
     "name": "stdout",
     "output_type": "stream",
     "text": [
      "[[-0.07696016 -0.07700294 -0.07703371 -0.07705721]\n",
      " [ 0.39861915  0.39859325  0.39857134  0.39855206]\n",
      " [ 2.87421751  2.87450552  2.87470627  2.87485576]\n",
      " [-0.08209754 -0.08210342 -0.08204667 -0.08196145]]\n"
     ]
    },
    {
     "data": {
      "text/plain": [
       "array([[  0.,   0.,   0.,   0.],\n",
       "       [ 41.,  41.,  41.,  41.],\n",
       "       [254., 254., 254., 255.],\n",
       "       [  0.,   0.,   0.,   0.]])"
      ]
     },
     "execution_count": 20,
     "metadata": {},
     "output_type": "execute_result"
    }
   ],
   "source": [
    "data = dat[:4,:4]\n",
    "print(data)\n",
    "np.floor((data-data.min()) / (data.max()-data.min()) * 255)"
   ]
  },
  {
   "cell_type": "markdown",
   "metadata": {},
   "source": [
    "## Treat skeleton data as images\n",
    "reference: https://ieeexplore.ieee.org/document/7486569"
   ]
  },
  {
   "cell_type": "markdown",
   "metadata": {},
   "source": [
    "### resize every image to 60 x 60"
   ]
  },
  {
   "cell_type": "code",
   "execution_count": 31,
   "metadata": {},
   "outputs": [
    {
     "name": "stdout",
     "output_type": "stream",
     "text": [
      "X_train.shape: (646, 60, 60)\n",
      "Y_train.shape: (646,)\n",
      "X_test.shape: (215, 60, 60)\n",
      "Y_test.shape: (215,)\n"
     ]
    }
   ],
   "source": [
    "import numpy as np\n",
    "from cv2 import resize\n",
    "# from keras.preprocessing import sequence\n",
    "\n",
    "X_train = []\n",
    "Y_train = []\n",
    "X_test = []\n",
    "Y_test = []\n",
    "\n",
    "for action in range(1, 28):\n",
    "    # print(action)\n",
    "    for subject in range(1, 9):\n",
    "        for trial in range(1, 5):\n",
    "            # data = import_inertial_data(action, subject, trial)\n",
    "            filename = f'Skeleton/a{action}_s{subject}_t{trial}_skeleton.mat'\n",
    "            try:\n",
    "                data = loadmat(filename)['d_skel']\n",
    "            except:\n",
    "                continue\n",
    "            \n",
    "            # not right\n",
    "            # data = data.reshape(60, data.shape[2])\n",
    "            data2 = data[:,0,:]\n",
    "            for n in range(1,3):\n",
    "                data2 = np.vstack((data2, data[:,n,:]))\n",
    "            data = data2\n",
    "            \n",
    "            # normalize coord into image pixel\n",
    "            data = np.floor((data-data.min()) / (data.max()-data.min()) * 255) \n",
    "            data = resize(data, (60, 60))\n",
    "            # data = sequence.pad_sequences(data, maxlen=125)\n",
    "            if subject in [1, 2 ,3, 5, 6, 7] :\n",
    "                X_train.append(data)\n",
    "                Y_train.append(action-1)\n",
    "            else:\n",
    "                X_test.append(data)\n",
    "                Y_test.append(action-1)\n",
    "                \n",
    "X_train = np.array(X_train)\n",
    "Y_train = np.array(Y_train)\n",
    "X_test = np.array(X_test)\n",
    "Y_test = np.array(Y_test)\n",
    "\n",
    "print('X_train.shape:', X_train.shape)\n",
    "print('Y_train.shape:', Y_train.shape)\n",
    "print('X_test.shape:', X_test.shape)\n",
    "print('Y_test.shape:', Y_test.shape)"
   ]
  },
  {
   "cell_type": "code",
   "execution_count": 32,
   "metadata": {},
   "outputs": [
    {
     "name": "stdout",
     "output_type": "stream",
     "text": [
      "X_train.shape: (646, 60, 60, 1)\n",
      "Y_train.shape: (646, 27)\n",
      "X_test.shape: (215, 60, 60, 1)\n",
      "Y_test.shape: (215, 27)\n"
     ]
    }
   ],
   "source": [
    "# One hot encoding\n",
    "from keras.utils import to_categorical\n",
    "\n",
    "# X_train = np.swapaxes(X_train, 1, 2)\n",
    "# X_test = np.swapaxes(X_test, 1, 2)\n",
    "\n",
    "X_train = np.expand_dims(X_train, axis=3)\n",
    "X_test = np.expand_dims(X_test, axis=3)\n",
    "Y_label = Y_test\n",
    "Y_train = to_categorical(Y_train)\n",
    "Y_test = to_categorical(Y_test)\n",
    "\n",
    "print('X_train.shape:', X_train.shape)\n",
    "print('Y_train.shape:', Y_train.shape)\n",
    "print('X_test.shape:', X_test.shape)\n",
    "print('Y_test.shape:', Y_test.shape)"
   ]
  },
  {
   "cell_type": "code",
   "execution_count": 43,
   "metadata": {},
   "outputs": [
    {
     "name": "stdout",
     "output_type": "stream",
     "text": [
      "_________________________________________________________________\n",
      "Layer (type)                 Output Shape              Param #   \n",
      "=================================================================\n",
      "NormalizeInput (BatchNormali (None, 60, 60, 1)         4         \n",
      "_________________________________________________________________\n",
      "conv2d_29 (Conv2D)           (None, 58, 58, 32)        320       \n",
      "_________________________________________________________________\n",
      "max_pooling2d_20 (MaxPooling (None, 28, 28, 32)        0         \n",
      "_________________________________________________________________\n",
      "conv2d_30 (Conv2D)           (None, 26, 26, 32)        9248      \n",
      "_________________________________________________________________\n",
      "max_pooling2d_21 (MaxPooling (None, 12, 12, 32)        0         \n",
      "_________________________________________________________________\n",
      "conv2d_31 (Conv2D)           (None, 10, 10, 64)        18496     \n",
      "_________________________________________________________________\n",
      "max_pooling2d_22 (MaxPooling (None, 4, 4, 64)          0         \n",
      "_________________________________________________________________\n",
      "conv2d_32 (Conv2D)           (None, 2, 2, 64)          36928     \n",
      "_________________________________________________________________\n",
      "flatten_6 (Flatten)          (None, 256)               0         \n",
      "_________________________________________________________________\n",
      "dense_9 (Dense)              (None, 128)               32896     \n",
      "_________________________________________________________________\n",
      "dense_10 (Dense)             (None, 27)                3483      \n",
      "=================================================================\n",
      "Total params: 101,375\n",
      "Trainable params: 101,373\n",
      "Non-trainable params: 2\n",
      "_________________________________________________________________\n",
      "Train on 646 samples, validate on 215 samples\n",
      "Epoch 1/100\n",
      " - 2s - loss: 3.3013 - acc: 0.0170 - val_loss: 3.2932 - val_acc: 0.0372\n",
      "Epoch 2/100\n",
      " - 0s - loss: 3.2935 - acc: 0.0372 - val_loss: 3.2904 - val_acc: 0.0372\n",
      "Epoch 3/100\n",
      " - 0s - loss: 3.2908 - acc: 0.0402 - val_loss: 3.2868 - val_acc: 0.0558\n",
      "Epoch 4/100\n",
      " - 0s - loss: 3.2876 - acc: 0.0619 - val_loss: 3.2817 - val_acc: 0.0698\n",
      "Epoch 5/100\n",
      " - 0s - loss: 3.2797 - acc: 0.0666 - val_loss: 3.2670 - val_acc: 0.1070\n",
      "Epoch 6/100\n",
      " - 0s - loss: 3.2572 - acc: 0.0743 - val_loss: 3.2304 - val_acc: 0.0977\n",
      "Epoch 7/100\n",
      " - 0s - loss: 3.2042 - acc: 0.0820 - val_loss: 3.1470 - val_acc: 0.1163\n",
      "Epoch 8/100\n",
      " - 0s - loss: 3.0951 - acc: 0.1223 - val_loss: 2.9702 - val_acc: 0.0977\n",
      "Epoch 9/100\n",
      " - 0s - loss: 2.8991 - acc: 0.1254 - val_loss: 3.3324 - val_acc: 0.0372\n",
      "Epoch 10/100\n",
      " - 0s - loss: 2.9297 - acc: 0.1099 - val_loss: 2.7212 - val_acc: 0.1023\n",
      "Epoch 11/100\n",
      " - 0s - loss: 2.6653 - acc: 0.1440 - val_loss: 2.6609 - val_acc: 0.1488\n",
      "Epoch 12/100\n",
      " - 0s - loss: 2.5873 - acc: 0.1347 - val_loss: 2.4083 - val_acc: 0.2512\n",
      "Epoch 13/100\n",
      " - 0s - loss: 2.4261 - acc: 0.2105 - val_loss: 2.7029 - val_acc: 0.0791\n",
      "Epoch 14/100\n",
      " - 0s - loss: 2.3030 - acc: 0.2198 - val_loss: 2.2116 - val_acc: 0.2605\n",
      "Epoch 15/100\n",
      " - 0s - loss: 2.1983 - acc: 0.2260 - val_loss: 2.1182 - val_acc: 0.2093\n",
      "Epoch 16/100\n",
      " - 0s - loss: 2.0420 - acc: 0.2368 - val_loss: 2.0803 - val_acc: 0.2093\n",
      "Epoch 17/100\n",
      " - 0s - loss: 1.9668 - acc: 0.2910 - val_loss: 1.9530 - val_acc: 0.3163\n",
      "Epoch 18/100\n",
      " - 0s - loss: 1.8786 - acc: 0.3297 - val_loss: 1.9299 - val_acc: 0.2744\n",
      "Epoch 19/100\n",
      " - 0s - loss: 1.8069 - acc: 0.2941 - val_loss: 1.9620 - val_acc: 0.3395\n",
      "Epoch 20/100\n",
      " - 0s - loss: 1.8172 - acc: 0.3375 - val_loss: 1.7785 - val_acc: 0.3395\n",
      "Epoch 21/100\n",
      " - 0s - loss: 1.6991 - acc: 0.3808 - val_loss: 1.7358 - val_acc: 0.3767\n",
      "Epoch 22/100\n",
      " - 0s - loss: 1.6206 - acc: 0.4195 - val_loss: 1.7436 - val_acc: 0.3395\n",
      "Epoch 23/100\n",
      " - 0s - loss: 1.5837 - acc: 0.4272 - val_loss: 1.7670 - val_acc: 0.4372\n",
      "Epoch 24/100\n",
      " - 0s - loss: 1.5738 - acc: 0.4350 - val_loss: 1.6396 - val_acc: 0.4698\n",
      "Epoch 25/100\n",
      " - 0s - loss: 1.4917 - acc: 0.4443 - val_loss: 1.6914 - val_acc: 0.4326\n",
      "Epoch 26/100\n",
      " - 0s - loss: 1.4478 - acc: 0.4892 - val_loss: 1.5610 - val_acc: 0.4372\n",
      "Epoch 27/100\n",
      " - 0s - loss: 1.4091 - acc: 0.4799 - val_loss: 1.5308 - val_acc: 0.4326\n",
      "Epoch 28/100\n",
      " - 0s - loss: 1.2964 - acc: 0.5387 - val_loss: 1.4136 - val_acc: 0.5116\n",
      "Epoch 29/100\n",
      " - 0s - loss: 1.3904 - acc: 0.4892 - val_loss: 1.4878 - val_acc: 0.4279\n",
      "Epoch 30/100\n",
      " - 0s - loss: 1.2332 - acc: 0.5279 - val_loss: 1.4877 - val_acc: 0.4651\n",
      "Epoch 31/100\n",
      " - 0s - loss: 1.1338 - acc: 0.5913 - val_loss: 1.3525 - val_acc: 0.5302\n",
      "Epoch 32/100\n",
      " - 0s - loss: 1.1221 - acc: 0.5635 - val_loss: 1.5375 - val_acc: 0.4605\n",
      "Epoch 33/100\n",
      " - 0s - loss: 1.1012 - acc: 0.6130 - val_loss: 1.4752 - val_acc: 0.4884\n",
      "Epoch 34/100\n",
      " - 0s - loss: 1.1076 - acc: 0.5882 - val_loss: 1.3157 - val_acc: 0.5535\n",
      "Epoch 35/100\n",
      " - 0s - loss: 1.1283 - acc: 0.6006 - val_loss: 1.3396 - val_acc: 0.5674\n",
      "Epoch 36/100\n",
      " - 0s - loss: 1.0747 - acc: 0.6037 - val_loss: 1.3026 - val_acc: 0.5302\n",
      "Epoch 37/100\n",
      " - 0s - loss: 1.0970 - acc: 0.6006 - val_loss: 1.3206 - val_acc: 0.5581\n",
      "Epoch 38/100\n",
      " - 0s - loss: 1.0290 - acc: 0.6006 - val_loss: 1.4658 - val_acc: 0.5070\n",
      "Epoch 39/100\n",
      " - 0s - loss: 0.9263 - acc: 0.6486 - val_loss: 1.4645 - val_acc: 0.4837\n",
      "Epoch 40/100\n",
      " - 0s - loss: 0.9783 - acc: 0.6176 - val_loss: 1.2163 - val_acc: 0.5860\n",
      "Epoch 41/100\n",
      " - 0s - loss: 0.9204 - acc: 0.6331 - val_loss: 1.4391 - val_acc: 0.5209\n",
      "Epoch 42/100\n",
      " - 0s - loss: 0.8957 - acc: 0.6672 - val_loss: 1.2216 - val_acc: 0.6000\n",
      "Epoch 43/100\n",
      " - 0s - loss: 0.9491 - acc: 0.6533 - val_loss: 1.4833 - val_acc: 0.5209\n",
      "Epoch 44/100\n",
      " - 0s - loss: 0.9053 - acc: 0.6641 - val_loss: 1.2439 - val_acc: 0.5767\n",
      "Epoch 45/100\n",
      " - 0s - loss: 0.8385 - acc: 0.6625 - val_loss: 1.2215 - val_acc: 0.5721\n",
      "Epoch 46/100\n",
      " - 0s - loss: 0.8944 - acc: 0.6517 - val_loss: 1.5542 - val_acc: 0.5256\n",
      "Epoch 47/100\n",
      " - 0s - loss: 0.8827 - acc: 0.6811 - val_loss: 1.2054 - val_acc: 0.6000\n",
      "Epoch 48/100\n",
      " - 0s - loss: 0.8248 - acc: 0.6981 - val_loss: 1.2072 - val_acc: 0.5674\n",
      "Epoch 49/100\n",
      " - 0s - loss: 0.8143 - acc: 0.6811 - val_loss: 1.3810 - val_acc: 0.5302\n",
      "Epoch 50/100\n",
      " - 0s - loss: 0.7819 - acc: 0.7554 - val_loss: 1.3108 - val_acc: 0.5721\n",
      "Epoch 51/100\n",
      " - 0s - loss: 0.7809 - acc: 0.7074 - val_loss: 1.2890 - val_acc: 0.5907\n",
      "Epoch 52/100\n",
      " - 0s - loss: 0.6876 - acc: 0.7647 - val_loss: 1.2268 - val_acc: 0.5953\n",
      "Epoch 53/100\n",
      " - 0s - loss: 0.7283 - acc: 0.7322 - val_loss: 1.1248 - val_acc: 0.6233\n",
      "Epoch 54/100\n",
      " - 0s - loss: 0.7420 - acc: 0.7059 - val_loss: 1.4590 - val_acc: 0.5767\n",
      "Epoch 55/100\n",
      " - 0s - loss: 0.7961 - acc: 0.6687 - val_loss: 1.1627 - val_acc: 0.6744\n",
      "Epoch 56/100\n",
      " - 0s - loss: 0.6886 - acc: 0.7368 - val_loss: 1.1004 - val_acc: 0.6465\n",
      "Epoch 57/100\n",
      " - 0s - loss: 0.6204 - acc: 0.7709 - val_loss: 1.1645 - val_acc: 0.5814\n",
      "Epoch 58/100\n",
      " - 0s - loss: 0.6024 - acc: 0.7833 - val_loss: 1.0291 - val_acc: 0.6465\n",
      "Epoch 59/100\n",
      " - 0s - loss: 0.6334 - acc: 0.7693 - val_loss: 1.0475 - val_acc: 0.6372\n",
      "Epoch 60/100\n",
      " - 0s - loss: 0.7699 - acc: 0.7198 - val_loss: 1.9860 - val_acc: 0.4093\n",
      "Epoch 61/100\n",
      " - 0s - loss: 0.7745 - acc: 0.7198 - val_loss: 1.1203 - val_acc: 0.6140\n",
      "Epoch 62/100\n",
      " - 0s - loss: 0.6379 - acc: 0.7616 - val_loss: 1.1834 - val_acc: 0.6186\n",
      "Epoch 63/100\n",
      " - 0s - loss: 0.6372 - acc: 0.7709 - val_loss: 1.2337 - val_acc: 0.5860\n",
      "Epoch 64/100\n",
      " - 0s - loss: 0.6410 - acc: 0.7523 - val_loss: 1.0536 - val_acc: 0.6512\n",
      "Epoch 65/100\n",
      " - 0s - loss: 0.6457 - acc: 0.7833 - val_loss: 1.1240 - val_acc: 0.6047\n",
      "Epoch 66/100\n",
      " - 0s - loss: 0.5920 - acc: 0.7678 - val_loss: 1.1067 - val_acc: 0.6512\n",
      "Epoch 67/100\n",
      " - 0s - loss: 0.5769 - acc: 0.7724 - val_loss: 0.9395 - val_acc: 0.6558\n",
      "Epoch 68/100\n",
      " - 0s - loss: 0.5844 - acc: 0.7678 - val_loss: 1.0678 - val_acc: 0.6372\n",
      "Epoch 69/100\n",
      " - 0s - loss: 0.4808 - acc: 0.8282 - val_loss: 0.9928 - val_acc: 0.6744\n",
      "Epoch 70/100\n",
      " - 0s - loss: 0.4800 - acc: 0.8359 - val_loss: 1.0094 - val_acc: 0.6698\n",
      "Epoch 71/100\n",
      " - 0s - loss: 0.6481 - acc: 0.7477 - val_loss: 1.1790 - val_acc: 0.6186\n",
      "Epoch 72/100\n",
      " - 0s - loss: 0.6218 - acc: 0.7384 - val_loss: 1.1114 - val_acc: 0.6093\n",
      "Epoch 73/100\n",
      " - 0s - loss: 0.6760 - acc: 0.7446 - val_loss: 1.1620 - val_acc: 0.6186\n",
      "Epoch 74/100\n",
      " - 0s - loss: 0.6029 - acc: 0.7771 - val_loss: 1.3826 - val_acc: 0.5581\n",
      "Epoch 75/100\n",
      " - 0s - loss: 0.5213 - acc: 0.8204 - val_loss: 0.9997 - val_acc: 0.7023\n",
      "Epoch 76/100\n",
      " - 0s - loss: 0.5422 - acc: 0.7802 - val_loss: 1.2168 - val_acc: 0.5907\n",
      "Epoch 77/100\n",
      " - 0s - loss: 0.4549 - acc: 0.8406 - val_loss: 1.0380 - val_acc: 0.6698\n",
      "Epoch 78/100\n",
      " - 0s - loss: 0.4806 - acc: 0.8204 - val_loss: 1.0306 - val_acc: 0.7023\n",
      "Epoch 79/100\n",
      " - 0s - loss: 0.5041 - acc: 0.8158 - val_loss: 1.0455 - val_acc: 0.6791\n",
      "Epoch 80/100\n",
      " - 0s - loss: 0.4336 - acc: 0.8359 - val_loss: 1.0497 - val_acc: 0.6093\n",
      "Epoch 81/100\n",
      " - 0s - loss: 0.4734 - acc: 0.8235 - val_loss: 1.0151 - val_acc: 0.6558\n",
      "Epoch 82/100\n",
      " - 0s - loss: 0.4979 - acc: 0.8328 - val_loss: 0.9425 - val_acc: 0.6837\n",
      "Epoch 83/100\n",
      " - 0s - loss: 0.3910 - acc: 0.8375 - val_loss: 1.1797 - val_acc: 0.6512\n",
      "Epoch 84/100\n",
      " - 0s - loss: 0.4586 - acc: 0.8204 - val_loss: 0.8298 - val_acc: 0.7535\n",
      "Epoch 85/100\n",
      " - 0s - loss: 0.4078 - acc: 0.8560 - val_loss: 0.8599 - val_acc: 0.7256\n",
      "Epoch 86/100\n",
      " - 0s - loss: 0.4606 - acc: 0.8452 - val_loss: 0.9054 - val_acc: 0.6930\n",
      "Epoch 87/100\n",
      " - 0s - loss: 0.3952 - acc: 0.8607 - val_loss: 0.9886 - val_acc: 0.6744\n",
      "Epoch 88/100\n",
      " - 0s - loss: 0.4175 - acc: 0.8282 - val_loss: 0.8865 - val_acc: 0.7535\n",
      "Epoch 89/100\n",
      " - 0s - loss: 0.3822 - acc: 0.8669 - val_loss: 1.1362 - val_acc: 0.6326\n",
      "Epoch 90/100\n",
      " - 0s - loss: 0.4523 - acc: 0.8328 - val_loss: 1.0650 - val_acc: 0.6512\n",
      "Epoch 91/100\n",
      " - 0s - loss: 0.4347 - acc: 0.8406 - val_loss: 0.9546 - val_acc: 0.6791\n",
      "Epoch 92/100\n",
      " - 0s - loss: 0.4171 - acc: 0.8467 - val_loss: 0.9512 - val_acc: 0.7070\n",
      "Epoch 93/100\n",
      " - 0s - loss: 0.3611 - acc: 0.8622 - val_loss: 0.9549 - val_acc: 0.6698\n",
      "Epoch 94/100\n",
      " - 0s - loss: 0.3086 - acc: 0.8947 - val_loss: 0.9015 - val_acc: 0.7070\n",
      "Epoch 95/100\n",
      " - 0s - loss: 0.3542 - acc: 0.8638 - val_loss: 1.0110 - val_acc: 0.6791\n",
      "Epoch 96/100\n",
      " - 0s - loss: 0.3208 - acc: 0.8901 - val_loss: 0.9217 - val_acc: 0.6744\n",
      "Epoch 97/100\n",
      " - 0s - loss: 0.4288 - acc: 0.8406 - val_loss: 1.0620 - val_acc: 0.6558\n",
      "Epoch 98/100\n",
      " - 0s - loss: 0.3789 - acc: 0.8467 - val_loss: 1.0730 - val_acc: 0.6558\n",
      "Epoch 99/100\n",
      " - 0s - loss: 0.3568 - acc: 0.8467 - val_loss: 1.1537 - val_acc: 0.6698\n",
      "Epoch 100/100\n",
      " - 0s - loss: 0.4253 - acc: 0.8375 - val_loss: 0.9592 - val_acc: 0.6977\n"
     ]
    }
   ],
   "source": [
    "from keras.models import Sequential\n",
    "from keras.layers import BatchNormalization, Conv2D, Dropout, Flatten, Dense\n",
    "from keras.layers.pooling import MaxPooling2D\n",
    "\n",
    "simple_cnn = Sequential()\n",
    "simple_cnn.add(BatchNormalization(input_shape = (60, 60, 1), \n",
    "                                  name = 'NormalizeInput'))\n",
    "simple_cnn.add(Conv2D(32, kernel_size = (3,3), activation='relu'))\n",
    "simple_cnn.add(MaxPooling2D((3, 3) , strides = 2))\n",
    "simple_cnn.add(Conv2D(32, kernel_size = (3,3), activation='relu'))\n",
    "simple_cnn.add(MaxPooling2D((3, 3) , strides = 2))\n",
    "simple_cnn.add(Conv2D(64, kernel_size = (3,3), activation='relu'))\n",
    "simple_cnn.add(MaxPooling2D((3, 3) , strides = 2))\n",
    "simple_cnn.add(Conv2D(64, kernel_size = (3,3), activation='relu'))\n",
    "simple_cnn.add(Flatten())\n",
    "simple_cnn.add(Dense(128, activation='relu'))\n",
    "simple_cnn.add(Dense(27, activation='softmax'))\n",
    "\n",
    "simple_cnn.compile(optimizer = 'adam', loss = 'categorical_crossentropy', \n",
    "                   # metrics = [dice_coef, 'acc', 'mse']\n",
    "                   metrics = ['acc'])\n",
    "simple_cnn.summary()\n",
    "\n",
    "history = simple_cnn.fit(X_train, Y_train, validation_data=(X_test, Y_test), \n",
    "                   epochs=100, batch_size=128, verbose=2)"
   ]
  },
  {
   "cell_type": "code",
   "execution_count": 44,
   "metadata": {},
   "outputs": [
    {
     "data": {
      "image/png": "[encoded data removed]",
      "text/plain": [
       "<Figure size 576x288 with 1 Axes>"
      ]
     },
     "metadata": {},
     "output_type": "display_data"
    }
   ],
   "source": [
    "import matplotlib.pyplot as plt\n",
    "\n",
    "epoch = list(range(1,101))\n",
    "plt.figure(figsize=(8,4))\n",
    "plt.plot(epoch, history.history['acc'], color='b')\n",
    "plt.plot(epoch, history.history['val_acc'], color='r')\n",
    "plt.title('Skeleton CNN - Activity Classification')\n",
    "plt.xlabel('Epoch')\n",
    "plt.ylabel('Accuracy')\n",
    "plt.legend(('Train', 'Validation'))\n",
    "plt.show()"
   ]
  }
 ],
 "metadata": {
  "kernelspec": {
   "display_name": "Python 3",
   "language": "python",
   "name": "python3"
  },
  "language_info": {
   "codemirror_mode": {
    "name": "ipython",
    "version": 3
   },
   "file_extension": ".py",
   "mimetype": "text/x-python",
   "name": "python",
   "nbconvert_exporter": "python",
   "pygments_lexer": "ipython3",
   "version": "3.6.2"
  }
 },
 "nbformat": 4,
 "nbformat_minor": 2
}

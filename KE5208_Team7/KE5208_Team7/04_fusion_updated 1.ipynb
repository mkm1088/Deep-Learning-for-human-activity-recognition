{
 "cells": [
  {
   "cell_type": "code",
   "execution_count": null,
   "metadata": {},
   "outputs": [],
   "source": [
    "# ref: workshop code\n",
    "\n",
    "inertial_input = Input(shape=(107,6),name=\"iner_lstm_input\")\n",
    "iner_lstm_1 = LSTM(50,input_shape=(107,6),return_sequences=True)(inertial_input)\n",
    "iner_lstm_out = LSTM(100,return_sequences=False)(iner_lstm_1)\n",
    "iner_dense = Dense(50)(iner_lstm_out)\n",
    "inertial_out = Dense(output_dim=28, name=\"inertial_output\")(iner_dense)\n",
    "\n",
    "skeleton_input = Input(shape=(41,60),name=\"ske_lstm_input\")\n",
    "ske_lstm_1 = LSTM(128,input_shape=(41,60),return_sequences=True)(skeleton_input)\n",
    "ske_lstm_out = LSTM(256,return_sequences=False)(ske_lstm_1)\n",
    "ske_dense = Dense(128)(ske_lstm_out)\n",
    "skeleton_out = Dense(output_dim=28, name=\"skeleton_output\")(ske_dense)\n",
    "\n",
    "merge = keras.layers.concatenate([iner_lstm_out, ske_lstm_out])\n",
    "\n",
    "dense_1 = Dense(128, activation = 'relu')(merge)\n",
    "#dense_2 = Dense(128, activation = 'relu')(dense_1)\n",
    "main_output = Dense(output_dim=28, activation='softmax', name='main_output')(dense_1)\n",
    "\n",
    "model = Model(inputs=[inertial_input,skeleton_input],outputs=[main_output,inertial_out,skeleton_out] )\n",
    "model.compile(loss='mse',optimizer='rmsprop',metrics=['mae', 'acc'])"
   ]
  },
  {
   "cell_type": "code",
   "execution_count": null,
   "metadata": {},
   "outputs": [],
   "source": [
    "# ref: https://blog.goodaudience.com/predicting-physical-activity-based-on-smartphone-sensor-data-using-cnn-lstm-9182dd13b6bc\n",
    "\n",
    "model = Sequential()\n",
    "model.add(Merge([first_model, second_model, third_model], mode='concat'))\n",
    "model.add(Dropout(0.4))\n",
    "model.add(Dense(n_classes))\n",
    "model.add(BatchNormalization())\n",
    "model.add(Activation('softmax'))\n",
    "model.compile(loss='categorical_crossentropy',\n",
    "              optimizer='rmsprop',\n",
    "              metrics=['accuracy'])\n",
    "history = model.fit([X_trainS1, X_trainS2, X_trainS3], Y_train,\n",
    "                    batch_size=batch_size,\n",
    "                    validation_data=([X_valS1, X_valS2, X_valS3], Y_val),epochs=epochs)"
   ]
  },
  {
   "cell_type": "markdown",
   "metadata": {},
   "source": [
    "## Prepare data"
   ]
  },
  {
   "cell_type": "code",
   "execution_count": 1,
   "metadata": {},
   "outputs": [
    {
     "name": "stderr",
     "output_type": "stream",
     "text": [
      "Using TensorFlow backend.\n"
     ]
    },
    {
     "name": "stdout",
     "output_type": "stream",
     "text": [
      "X_train.shape: (431, 326, 6)\n",
      "Y_train.shape: (431, 27)\n",
      "X_val.shape: (215, 326, 6)\n",
      "Y_val.shape: (215, 27)\n",
      "X_test.shape: (215, 326, 6)\n",
      "Y_test.shape: (215, 27)\n"
     ]
    }
   ],
   "source": [
    "import numpy as np\n",
    "from scipy.io import loadmat\n",
    "from keras.preprocessing import sequence\n",
    "from keras.utils import to_categorical\n",
    "\n",
    "X_train = []\n",
    "Y_train = []\n",
    "X_val = []\n",
    "Y_val = []\n",
    "X_test = []\n",
    "Y_test = []\n",
    "\n",
    "for action in range(1, 28):\n",
    "    # print(action)\n",
    "    for subject in range(1, 9):\n",
    "        for trial in range(1, 5):\n",
    "            # data = import_inertial_data(action, subject, trial)\n",
    "            filename = f'Inertial/a{action}_s{subject}_t{trial}_inertial.mat'\n",
    "            try:\n",
    "                data = loadmat(filename)['d_iner']\n",
    "            except:\n",
    "                continue\n",
    "            \n",
    "            # if data is None: continue\n",
    "            data = np.swapaxes(data, 0, 1)\n",
    "            data = sequence.pad_sequences(data, maxlen=326)\n",
    "\n",
    "            if subject in [1, 2 ,3, 5] :\n",
    "                X_train.append(data)\n",
    "                Y_train.append(action-1)\n",
    "            elif subject in [6, 7]:\n",
    "                X_val.append(data)\n",
    "                Y_val.append(action-1)\n",
    "            else:\n",
    "                X_test.append(data)\n",
    "                Y_test.append(action-1)\n",
    "                \n",
    "X_train1 = np.array(X_train)\n",
    "Y_train = np.array(Y_train)\n",
    "X_val1 = np.array(X_val)\n",
    "Y_val = np.array(Y_val)\n",
    "X_test1 = np.array(X_test)\n",
    "Y_test = np.array(Y_test)\n",
    "Y_label = Y_test\n",
    "X_train1 = np.swapaxes(X_train1, 1, 2)\n",
    "X_val1 = np.swapaxes(X_val1, 1, 2)\n",
    "X_test1 = np.swapaxes(X_test1, 1, 2)\n",
    "\n",
    "Y_train = to_categorical(Y_train)\n",
    "Y_test = to_categorical(Y_test)\n",
    "Y_val = to_categorical(Y_val)\n",
    "\n",
    "print('X_train.shape:', X_train1.shape)\n",
    "print('Y_train.shape:', Y_train.shape)\n",
    "print('X_val.shape:', X_val1.shape)\n",
    "print('Y_val.shape:', Y_val.shape)\n",
    "print('X_test.shape:', X_test1.shape)\n",
    "print('Y_test.shape:', Y_test.shape)"
   ]
  },
  {
   "cell_type": "code",
   "execution_count": 2,
   "metadata": {},
   "outputs": [
    {
     "name": "stdout",
     "output_type": "stream",
     "text": [
      "X_train.shape: (431, 60, 60, 1)\n",
      "Y_train.shape: (431, 27)\n",
      "X_val.shape: (215, 60, 60, 1)\n",
      "Y_val.shape: (215, 27)\n",
      "X_test.shape: (215, 60, 60, 1)\n",
      "Y_test.shape: (215, 27)\n"
     ]
    }
   ],
   "source": [
    "from cv2 import resize\n",
    "\n",
    "X_train = []\n",
    "X_val = []\n",
    "X_test = []\n",
    "\n",
    "for action in range(1, 28):\n",
    "    # print(action)\n",
    "    for subject in range(1, 9):\n",
    "        for trial in range(1, 5):\n",
    "            # data = import_inertial_data(action, subject, trial)\n",
    "            filename = f'Skeleton/a{action}_s{subject}_t{trial}_skeleton.mat'\n",
    "            try:\n",
    "                data = loadmat(filename)['d_skel']\n",
    "            except:\n",
    "                continue\n",
    "            \n",
    "            # not right\n",
    "            # data = data.reshape(60, data.shape[2])\n",
    "            data2 = data[:,0,:]\n",
    "            for n in range(1,3):\n",
    "                data2 = np.vstack((data2, data[:,n,:]))\n",
    "            data = data2\n",
    "            \n",
    "            # normalize coord into image pixel\n",
    "            data = np.floor((data-data.min()) / (data.max()-data.min()) * 255) \n",
    "            data = resize(data, (60, 60))\n",
    "            # data = sequence.pad_sequences(data, maxlen=125)\n",
    "            if subject in [1, 2 ,3, 5] :\n",
    "                X_train.append(data)\n",
    "                # Y_train.append(action-1)\n",
    "            elif subject in [6, 7]:\n",
    "                X_val.append(data)\n",
    "                # Y_val.append(action-1)\n",
    "            else:\n",
    "                X_test.append(data)\n",
    "                # Y_test.append(action-1)\n",
    "                \n",
    "X_train2 = np.array(X_train)\n",
    "X_val2 = np.array(X_val)\n",
    "X_test2 = np.array(X_test)\n",
    "\n",
    "X_train2 = np.expand_dims(X_train2, axis=3)\n",
    "X_test2 = np.expand_dims(X_test2, axis=3)\n",
    "X_val2 = np.expand_dims(X_val2, axis=3)\n",
    "\n",
    "print('X_train.shape:', X_train2.shape)\n",
    "print('Y_train.shape:', Y_train.shape)\n",
    "print('X_val.shape:', X_val2.shape)\n",
    "print('Y_val.shape:', Y_val.shape)\n",
    "print('X_test.shape:', X_test2.shape)\n",
    "print('Y_test.shape:', Y_test.shape)"
   ]
  },
  {
   "cell_type": "code",
   "execution_count": 3,
   "metadata": {},
   "outputs": [
    {
     "name": "stdout",
     "output_type": "stream",
     "text": [
      "(431, 64, 64, 20)\n",
      "(215, 64, 64, 20)\n",
      "(215, 64, 64, 20)\n",
      "(431, 64, 64, 20)\n",
      "(215, 64, 64, 20)\n",
      "(215, 64, 64, 20)\n"
     ]
    }
   ],
   "source": [
    "mat_depth = np.load('depth_of.npz')\n",
    "mat_video = np.load('video_of.npz')\n",
    "\n",
    "X_train3 = mat_depth['arr_0']\n",
    "X_val3 = mat_depth['arr_2']\n",
    "X_test3 = mat_depth['arr_4']\n",
    "X_train4 = mat_video['arr_0']\n",
    "X_val4 = mat_video['arr_2']\n",
    "X_test4 = mat_video['arr_4']\n",
    "\n",
    "print(X_train3.shape)\n",
    "print(X_val3.shape)\n",
    "print(X_test3.shape)\n",
    "print(X_train4.shape)\n",
    "print(X_val4.shape)\n",
    "print(X_test4.shape)"
   ]
  },
  {
   "cell_type": "markdown",
   "metadata": {},
   "source": [
    "## Multimodal fusion - rm dropouts\n"
   ]
  },
  {
   "cell_type": "code",
   "execution_count": 7,
   "metadata": {},
   "outputs": [
    {
     "name": "stdout",
     "output_type": "stream",
     "text": [
      "Train on 431 samples, validate on 215 samples\n",
      "Epoch 1/30\n",
      " - 47s - loss: 5.0401 - acc: 0.0348 - val_loss: 3.3613 - val_acc: 0.0930\n",
      "Epoch 2/30\n",
      " - 38s - loss: 3.2039 - acc: 0.1230 - val_loss: 3.0010 - val_acc: 0.2884\n",
      "Epoch 3/30\n",
      " - 40s - loss: 2.7413 - acc: 0.2831 - val_loss: 2.4476 - val_acc: 0.3163\n",
      "Epoch 4/30\n",
      " - 37s - loss: 2.2019 - acc: 0.3735 - val_loss: 1.8767 - val_acc: 0.5256\n",
      "Epoch 5/30\n",
      " - 40s - loss: 1.4867 - acc: 0.6589 - val_loss: 1.4955 - val_acc: 0.5209\n",
      "Epoch 6/30\n",
      " - 38s - loss: 1.0236 - acc: 0.7262 - val_loss: 1.1200 - val_acc: 0.6698\n",
      "Epoch 7/30\n",
      " - 38s - loss: 0.5831 - acc: 0.8353 - val_loss: 0.7045 - val_acc: 0.7674\n",
      "Epoch 8/30\n",
      " - 41s - loss: 0.3383 - acc: 0.9095 - val_loss: 0.6284 - val_acc: 0.7953\n",
      "Epoch 9/30\n",
      " - 38s - loss: 0.2160 - acc: 0.9443 - val_loss: 0.6114 - val_acc: 0.7860\n",
      "Epoch 10/30\n",
      " - 34s - loss: 0.1293 - acc: 0.9745 - val_loss: 0.6677 - val_acc: 0.7907\n",
      "Epoch 11/30\n",
      " - 34s - loss: 0.1141 - acc: 0.9722 - val_loss: 0.5652 - val_acc: 0.8047\n",
      "Epoch 12/30\n",
      " - 34s - loss: 0.0959 - acc: 0.9768 - val_loss: 0.5625 - val_acc: 0.8233\n",
      "Epoch 13/30\n",
      " - 34s - loss: 0.0772 - acc: 0.9838 - val_loss: 0.5101 - val_acc: 0.8233\n",
      "Epoch 14/30\n",
      " - 34s - loss: 0.0562 - acc: 0.9930 - val_loss: 0.4475 - val_acc: 0.8512\n",
      "Epoch 15/30\n",
      " - 34s - loss: 0.0381 - acc: 0.9907 - val_loss: 0.5540 - val_acc: 0.8140\n",
      "Epoch 16/30\n",
      " - 34s - loss: 0.0489 - acc: 0.9861 - val_loss: 0.4859 - val_acc: 0.8326\n",
      "Epoch 17/30\n",
      " - 34s - loss: 0.0294 - acc: 1.0000 - val_loss: 0.4543 - val_acc: 0.8419\n",
      "Epoch 18/30\n",
      " - 34s - loss: 0.0185 - acc: 0.9977 - val_loss: 0.5067 - val_acc: 0.8326\n",
      "Epoch 19/30\n",
      " - 35s - loss: 0.0144 - acc: 1.0000 - val_loss: 0.5006 - val_acc: 0.8372\n",
      "Epoch 00019: early stopping\n"
     ]
    }
   ],
   "source": [
    "kernel_size = 3 \n",
    "pool_size = 2\n",
    "dropout_rate = 0.6\n",
    "f_act = 'relu'\n",
    "from keras.models import Sequential\n",
    "from keras.layers import BatchNormalization, Conv1D, Conv2D, Dropout, Flatten, Activation, Dense, LSTM, Input, concatenate\n",
    "from keras.layers.pooling import MaxPooling1D, MaxPooling2D\n",
    "from keras.models import Model\n",
    "\n",
    "from keras.callbacks import EarlyStopping, ModelCheckpoint\n",
    "earlystopper = EarlyStopping(patience=5, verbose=1, monitor='val_acc')\n",
    "checkpointer = ModelCheckpoint('model_f.h5', verbose=0, save_best_only=True)\n",
    "\n",
    "\n",
    "\n",
    "simple_cnn = Sequential()\n",
    "simple_cnn.add(BatchNormalization(input_shape = (64, 64, 20), \n",
    "                                  name = 'NormalizeInput'))\n",
    "simple_cnn.add(Conv2D(64, kernel_size = (3,3), activation='relu', padding='same'))\n",
    "simple_cnn.add(MaxPooling2D((2, 2) , strides = 2))\n",
    "simple_cnn.add(Conv2D(128, kernel_size = (3,3), activation='relu', padding='same'))\n",
    "simple_cnn.add(MaxPooling2D((2, 2) , strides = 2))\n",
    "simple_cnn.add(Conv2D(256, kernel_size = (3,3), activation='relu', padding='same'))\n",
    "simple_cnn.add(MaxPooling2D((2, 2) , strides = 2))\n",
    "simple_cnn.add(Conv2D(256, kernel_size = (3,3), activation='relu', padding='same'))\n",
    "simple_cnn.add(MaxPooling2D((2, 2) , strides = 2))\n",
    "simple_cnn.add(Flatten())\n",
    "# 256 for testing, otherwise use 2048\n",
    "simple_cnn.add(Dense(1024, activation='relu'))\n",
    "simple_cnn.add(Dropout(dropout_rate))\n",
    "\n",
    "\n",
    "\n",
    "simple_cnn2 = Sequential()\n",
    "simple_cnn2.add(BatchNormalization(input_shape = (64, 64, 20), \n",
    "                                  name = 'NormalizeInput'))\n",
    "simple_cnn2.add(Conv2D(64, kernel_size = (3,3), activation='relu', padding='same'))\n",
    "simple_cnn2.add(MaxPooling2D((2, 2) , strides = 2))\n",
    "simple_cnn2.add(Conv2D(128, kernel_size = (3,3), activation='relu', padding='same'))\n",
    "simple_cnn2.add(MaxPooling2D((2, 2) , strides = 2))\n",
    "simple_cnn2.add(Conv2D(256, kernel_size = (3,3), activation='relu', padding='same'))\n",
    "simple_cnn2.add(MaxPooling2D((2, 2) , strides = 2))\n",
    "simple_cnn2.add(Conv2D(256, kernel_size = (3,3), activation='relu', padding='same'))\n",
    "simple_cnn2.add(MaxPooling2D((2, 2) , strides = 2))\n",
    "simple_cnn2.add(Flatten())\n",
    "# 256 for testing, otherwise use 2048\n",
    "simple_cnn2.add(Dense(1024, activation='relu'))\n",
    "simple_cnn2.add(Dropout(dropout_rate))\n",
    "\n",
    "\n",
    "# kernel_size = 3 \n",
    "# pool_size = 2\n",
    "# dropout_rate = 0.15\n",
    "# f_act = 'relu'\n",
    "\n",
    "model1 = Sequential()\n",
    "model1.add(Conv1D(64, (kernel_size), input_shape=X_train1.shape[1:], \n",
    "                       activation=f_act, padding='same'))\n",
    "model1.add(BatchNormalization())\n",
    "model1.add(MaxPooling1D(pool_size=(pool_size)))\n",
    "# model1.add(Dropout(dropout_rate))\n",
    "\n",
    "model1.add(Conv1D(64, (kernel_size), activation=f_act, padding='same'))\n",
    "model1.add(BatchNormalization())\n",
    "model1.add(MaxPooling1D(pool_size=(pool_size)))\n",
    "# model1.add(Dropout(dropout_rate))\n",
    "\n",
    "model1.add(Conv1D(64, (kernel_size), activation=f_act, padding='same'))\n",
    "model1.add(BatchNormalization())\n",
    "model1.add(MaxPooling1D(pool_size=(pool_size)))\n",
    "\n",
    "model1.add(Conv1D(64, (kernel_size), activation=f_act, padding='same'))\n",
    "model1.add(BatchNormalization())\n",
    "model1.add(MaxPooling1D(pool_size=(pool_size)))\n",
    "#model1.add(Dropout(dropout_rate)\n",
    "# model1.add(LSTM(128, return_sequences=True))\n",
    "model1.add(LSTM(128, return_sequences=True))\n",
    "model1.add(LSTM(128))\n",
    "model1.add(Dropout(dropout_rate))\n",
    "\n",
    "\n",
    "model2 = Sequential()\n",
    "model2.add(BatchNormalization(input_shape = X_train2.shape[1:], \n",
    "                                  name = 'NormalizeInput'))\n",
    "model2.add(Conv2D(32, kernel_size = (3,3), activation='relu'))\n",
    "model2.add(MaxPooling2D((3, 3) , strides = 2))\n",
    "model2.add(Conv2D(32, kernel_size = (3,3), activation='relu'))\n",
    "model2.add(MaxPooling2D((3, 3) , strides = 2))\n",
    "model2.add(Conv2D(64, kernel_size = (3,3), activation='relu'))\n",
    "model2.add(MaxPooling2D((3, 3) , strides = 2))\n",
    "model2.add(Conv2D(64, kernel_size = (3,3), activation='relu'))\n",
    "model2.add(Flatten())\n",
    "model2.add(Dropout(dropout_rate))\n",
    "# create tensors\n",
    "inertial_input = Input(shape=(326, 6))\n",
    "encoded_int = model1(inertial_input)\n",
    "#encoded_int_out = encoded_int.add(keras.layers.Dropout(0.5))\n",
    "skeleton_input = Input(shape=(60, 60, 1))\n",
    "encoded_skt = model2(skeleton_input)\n",
    "depth_input = Input(shape=(64, 64, 20))\n",
    "encoded_dpt = simple_cnn(depth_input)\n",
    "video_input = Input(shape=(64, 64, 20))\n",
    "encoded_vd = simple_cnn2(video_input)\n",
    "\n",
    "merged = concatenate([encoded_int, encoded_skt, encoded_dpt, encoded_vd])\n",
    "output = Dense(27, activation='softmax')(merged)\n",
    "model = Model(inputs=[inertial_input, skeleton_input, depth_input, video_input], outputs=output)\n",
    "\n",
    "model.compile(loss='categorical_crossentropy',\n",
    "              optimizer='adam',\n",
    "              metrics=['accuracy'])\n",
    "\n",
    "\n",
    "\n",
    "history = model.fit([X_train1, X_train2, X_train3, X_train4], Y_train,\n",
    "                    batch_size=64,\n",
    "                    validation_data=([X_val1, X_val2, X_val3, X_val4], Y_val), \n",
    "                    epochs=30, verbose = 2, \n",
    "                    callbacks = [earlystopper, checkpointer])"
   ]
  },
  {
   "cell_type": "code",
   "execution_count": 8,
   "metadata": {},
   "outputs": [
    {
     "name": "stdout",
     "output_type": "stream",
     "text": [
      "215/215 [==============================] - 15s 69ms/step\n",
      "Loss: 0.61\n",
      "Accuracy: 83.72%\n"
     ]
    }
   ],
   "source": [
    "# Evaluate model\n",
    "scores = model.evaluate([X_test1, X_test2, X_test3, X_test4], Y_test, verbose=1)\n",
    "print(\"Loss: %.2f\" % scores[0])\n",
    "print(\"Accuracy: %.2f%%\" % (scores[1]*100))"
   ]
  },
  {
   "cell_type": "code",
   "execution_count": 9,
   "metadata": {},
   "outputs": [
    {
     "name": "stdout",
     "output_type": "stream",
     "text": [
      "215/215 [==============================] - 14s 63ms/step\n",
      "loss: 0.550\n",
      "acc: 0.819\n"
     ]
    }
   ],
   "source": [
    "from keras.models import load_model\n",
    "\n",
    "model_best = load_model('model_f.h5')\n",
    "loss, acc = model_best.evaluate([X_test1, X_test2, X_test3, X_test4], Y_test, verbose = 1)\n",
    "                                \n",
    "print(\"loss: %.3f\" % (loss))\n",
    "print(\"acc: %.3f\" % (acc))"
   ]
  },
  {
   "cell_type": "code",
   "execution_count": 11,
   "metadata": {},
   "outputs": [
    {
     "data": {
      "image/png": "[encoded data removed]",
      "text/plain": [
       "<Figure size 576x288 with 1 Axes>"
      ]
     },
     "metadata": {
      "needs_background": "light"
     },
     "output_type": "display_data"
    }
   ],
   "source": [
    "import matplotlib.pyplot as plt\n",
    "\n",
    "epoch = list(range(1,20))\n",
    "plt.figure(figsize=(8,4))\n",
    "plt.plot(epoch, history.history['acc'], color='b')\n",
    "plt.plot(epoch, history.history['val_acc'], color='r')\n",
    "plt.title('RNN LSTM - Activity Classification')\n",
    "plt.xlabel('Epoch')\n",
    "plt.ylabel('Accuracy')\n",
    "plt.legend(('Train', 'Validation'))\n",
    "plt.show()"
   ]
  },
  {
   "cell_type": "code",
   "execution_count": 13,
   "metadata": {},
   "outputs": [
    {
     "data": {
      "text/plain": [
       "array([9.8494577e-01, 1.2983007e-02, 6.4523381e-05, 1.6077032e-05,\n",
       "       6.1448713e-06, 1.5226176e-05, 4.1579685e-07, 8.6311287e-05,\n",
       "       5.7898102e-05, 2.9576506e-05, 2.7172834e-07, 7.4413634e-07,\n",
       "       2.1456394e-04, 1.6207880e-04, 2.3846780e-05, 1.3330730e-05,\n",
       "       1.0463455e-06, 1.0963621e-04, 6.0284101e-06, 1.1912440e-05,\n",
       "       1.5029393e-07, 2.7693566e-06, 2.5742198e-04, 3.6372698e-04,\n",
       "       5.5653222e-06, 2.6481632e-05, 5.9550017e-04], dtype=float32)"
      ]
     },
     "execution_count": 13,
     "metadata": {},
     "output_type": "execute_result"
    }
   ],
   "source": [
    "pred = model.predict([X_test1, X_test2, X_test3, X_test4], batch_size=64, verbose = 2)\n",
    "pred[5]"
   ]
  },
  {
   "cell_type": "code",
   "execution_count": 14,
   "metadata": {},
   "outputs": [
    {
     "data": {
      "text/plain": [
       "array([0, 0, 0, 0, 0, 0, 0, 0, 1, 1])"
      ]
     },
     "execution_count": 14,
     "metadata": {},
     "output_type": "execute_result"
    }
   ],
   "source": [
    "y_class = pred.argmax(axis=-1)\n",
    "y_class[:10]"
   ]
  },
  {
   "cell_type": "code",
   "execution_count": 15,
   "metadata": {},
   "outputs": [
    {
     "data": {
      "text/plain": [
       "(27, 27)"
      ]
     },
     "execution_count": 15,
     "metadata": {},
     "output_type": "execute_result"
    }
   ],
   "source": [
    "from sklearn.metrics import confusion_matrix\n",
    "\n",
    "cnf_matrix = confusion_matrix(Y_label, y_class)\n",
    "cnf_matrix.shape"
   ]
  },
  {
   "cell_type": "code",
   "execution_count": 16,
   "metadata": {},
   "outputs": [],
   "source": [
    "# https://stackoverflow.com/questions/38971293/get-class-labels-from-keras-functional-model\n",
    "\n",
    "import itertools\n",
    "import numpy as np\n",
    "import matplotlib.pyplot as plt\n",
    "\n",
    "def plot_confusion_matrix(cm, classes,\n",
    "                          normalize=False,\n",
    "                          title='Confusion matrix',\n",
    "                          cmap=plt.cm.Blues):\n",
    "    \"\"\"\n",
    "    This function prints and plots the confusion matrix.\n",
    "    Normalization can be applied by setting `normalize=True`.\n",
    "    \"\"\"\n",
    "    if normalize:\n",
    "        cm = cm.astype('float') / cm.sum(axis=1)[:, np.newaxis]\n",
    "        print(\"Normalized confusion matrix\")\n",
    "    else:\n",
    "        print('Confusion matrix, without normalization')\n",
    "\n",
    "    # print(cm)\n",
    "\n",
    "    plt.imshow(cm, interpolation='nearest', cmap=cmap)\n",
    "    plt.title(title)\n",
    "    plt.colorbar()\n",
    "    tick_marks = np.arange(len(classes))\n",
    "    plt.xticks(tick_marks, classes, rotation=45)\n",
    "    plt.yticks(tick_marks, classes)\n",
    "\n",
    "    fmt = '.2f' if normalize else 'd'\n",
    "    thresh = cm.max() / 2.\n",
    "    for i, j in itertools.product(range(cm.shape[0]), range(cm.shape[1])):\n",
    "        plt.text(j, i, format(cm[i, j], fmt),\n",
    "                 horizontalalignment=\"center\",\n",
    "                 color=\"white\" if cm[i, j] > thresh else \"black\")\n",
    "\n",
    "    plt.ylabel('True label')\n",
    "    plt.xlabel('Predicted label')\n",
    "    plt.tight_layout()"
   ]
  },
  {
   "cell_type": "code",
   "execution_count": 17,
   "metadata": {},
   "outputs": [
    {
     "name": "stdout",
     "output_type": "stream",
     "text": [
      "Confusion matrix, without normalization\n"
     ]
    },
    {
     "data": {
      "image/png": "[encoded data removed]",
      "text/plain": [
       "<Figure size 720x720 with 2 Axes>"
      ]
     },
     "metadata": {
      "needs_background": "light"
     },
     "output_type": "display_data"
    }
   ],
   "source": [
    "# Plot Model 2, to be renewed\n",
    "\n",
    "class_names = list(range(27))\n",
    "\n",
    "# Plot non-normalized confusion matrix\n",
    "plt.figure(figsize=(10,10))\n",
    "plot_confusion_matrix(cnf_matrix, classes=class_names,\n",
    "                      title='Confusion matrix, without normalization')\n",
    "plt.show()"
   ]
  },
  {
   "cell_type": "code",
   "execution_count": null,
   "metadata": {},
   "outputs": [],
   "source": [
    "import matplotlib.pyplot as plt\n",
    "\n",
    "epoch = list(range(1,22))\n",
    "plt.figure(figsize=(8,4))\n",
    "plt.plot(epoch, history.history['acc'], color='b')\n",
    "plt.plot(epoch, history.history['val_acc'], color='r')\n",
    "plt.title('RNN LSTM - Activity Classification')\n",
    "plt.xlabel('Epoch')\n",
    "plt.ylabel('Accuracy')\n",
    "plt.legend(('Train', 'Validation'))\n",
    "plt.show()"
   ]
  },
  {
   "cell_type": "code",
   "execution_count": null,
   "metadata": {},
   "outputs": [],
   "source": [
    "pred = model.predict([X_test1, X_test2, X_test3, X_test4], batch_size=64, verbose = 2)\n",
    "pred[5]"
   ]
  },
  {
   "cell_type": "code",
   "execution_count": null,
   "metadata": {},
   "outputs": [],
   "source": [
    "y_class = pred.argmax(axis=-1)\n",
    "y_class[:10]"
   ]
  },
  {
   "cell_type": "code",
   "execution_count": null,
   "metadata": {},
   "outputs": [],
   "source": [
    "from sklearn.metrics import confusion_matrix\n",
    "\n",
    "cnf_matrix = confusion_matrix(Y_label, y_class)\n",
    "cnf_matrix.shape"
   ]
  },
  {
   "cell_type": "code",
   "execution_count": null,
   "metadata": {},
   "outputs": [],
   "source": [
    "# https://stackoverflow.com/questions/38971293/get-class-labels-from-keras-functional-model\n",
    "\n",
    "import itertools\n",
    "import numpy as np\n",
    "import matplotlib.pyplot as plt\n",
    "\n",
    "def plot_confusion_matrix(cm, classes,\n",
    "                          normalize=False,\n",
    "                          title='Confusion matrix',\n",
    "                          cmap=plt.cm.Blues):\n",
    "    \"\"\"\n",
    "    This function prints and plots the confusion matrix.\n",
    "    Normalization can be applied by setting `normalize=True`.\n",
    "    \"\"\"\n",
    "    if normalize:\n",
    "        cm = cm.astype('float') / cm.sum(axis=1)[:, np.newaxis]\n",
    "        print(\"Normalized confusion matrix\")\n",
    "    else:\n",
    "        print('Confusion matrix, without normalization')\n",
    "\n",
    "    # print(cm)\n",
    "\n",
    "    plt.imshow(cm, interpolation='nearest', cmap=cmap)\n",
    "    plt.title(title)\n",
    "    plt.colorbar()\n",
    "    tick_marks = np.arange(len(classes))\n",
    "    plt.xticks(tick_marks, classes, rotation=45)\n",
    "    plt.yticks(tick_marks, classes)\n",
    "\n",
    "    fmt = '.2f' if normalize else 'd'\n",
    "    thresh = cm.max() / 2.\n",
    "    for i, j in itertools.product(range(cm.shape[0]), range(cm.shape[1])):\n",
    "        plt.text(j, i, format(cm[i, j], fmt),\n",
    "                 horizontalalignment=\"center\",\n",
    "                 color=\"white\" if cm[i, j] > thresh else \"black\")\n",
    "\n",
    "    plt.ylabel('True label')\n",
    "    plt.xlabel('Predicted label')\n",
    "    plt.tight_layout()"
   ]
  },
  {
   "cell_type": "code",
   "execution_count": null,
   "metadata": {},
   "outputs": [],
   "source": [
    "# Plot Model 2, to be renewed\n",
    "\n",
    "class_names = list(range(27))\n",
    "\n",
    "# Plot non-normalized confusion matrix\n",
    "plt.figure(figsize=(10,10))\n",
    "plot_confusion_matrix(cnf_matrix, classes=class_names,\n",
    "                      title='Confusion matrix, without normalization')\n",
    "plt.show()"
   ]
  },
  {
   "cell_type": "code",
   "execution_count": null,
   "metadata": {},
   "outputs": [],
   "source": []
  },
  {
   "cell_type": "code",
   "execution_count": null,
   "metadata": {},
   "outputs": [],
   "source": []
  },
  {
   "cell_type": "code",
   "execution_count": null,
   "metadata": {},
   "outputs": [],
   "source": []
  },
  {
   "cell_type": "code",
   "execution_count": null,
   "metadata": {},
   "outputs": [],
   "source": []
  },
  {
   "cell_type": "code",
   "execution_count": null,
   "metadata": {},
   "outputs": [],
   "source": []
  }
 ],
 "metadata": {
  "kernelspec": {
   "display_name": "Python 3",
   "language": "python",
   "name": "python3"
  },
  "language_info": {
   "codemirror_mode": {
    "name": "ipython",
    "version": 3
   },
   "file_extension": ".py",
   "mimetype": "text/x-python",
   "name": "python",
   "nbconvert_exporter": "python",
   "pygments_lexer": "ipython3",
   "version": "3.6.6"
  }
 },
 "nbformat": 4,
 "nbformat_minor": 2
}
